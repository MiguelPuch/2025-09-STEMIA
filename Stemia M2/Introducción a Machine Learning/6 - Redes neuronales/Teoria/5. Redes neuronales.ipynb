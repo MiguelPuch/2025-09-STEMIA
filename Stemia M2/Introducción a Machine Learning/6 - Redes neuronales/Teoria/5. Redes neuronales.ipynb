{
 "cells": [
  {
   "attachments": {},
   "cell_type": "markdown",
   "metadata": {},
   "source": [
    "## Perceptron\n",
    "\n",
    "El perceptron es una de las primeras aproximaciones a la emulación de sistemas físicos de manera artificial. Estos habitualmente son referidos como modelos bioinspirados.\n",
    "\n",
    "Si tomamos como ejemplo la estructura de una neurona\n",
    "\n",
    "<img src=\"./../../../../assets/images/Neurona.webp\" alt=\"drawing\" width=\"650\"/>\n",
    "\n",
    "Podemos intentar emular su funcionamiento como si de una estructura artificial (fórmula) se tratara.\n",
    "\n",
    "<img src=\"./../../../../assets/images/perceptron-6168423.jpg\" alt=\"drawing\" width=\"650\"/>\n",
    "\n",
    "Empezamos cargando librerías..."
   ]
  },
  {
   "cell_type": "code",
   "execution_count": 1,
   "metadata": {},
   "outputs": [],
   "source": [
    "import pandas as pd\n",
    "import seaborn as sns"
   ]
  },
  {
   "attachments": {},
   "cell_type": "markdown",
   "metadata": {},
   "source": [
    "Cargamos datos. Utilizaremos el dataset de pinguinos de seaborn"
   ]
  },
  {
   "cell_type": "code",
   "execution_count": 2,
   "metadata": {},
   "outputs": [
    {
     "data": {
      "application/vnd.microsoft.datawrangler.viewer.v0+json": {
       "columns": [
        {
         "name": "index",
         "rawType": "int64",
         "type": "integer"
        },
        {
         "name": "species",
         "rawType": "object",
         "type": "string"
        },
        {
         "name": "island",
         "rawType": "object",
         "type": "string"
        },
        {
         "name": "bill_length_mm",
         "rawType": "float64",
         "type": "float"
        },
        {
         "name": "bill_depth_mm",
         "rawType": "float64",
         "type": "float"
        },
        {
         "name": "flipper_length_mm",
         "rawType": "float64",
         "type": "float"
        },
        {
         "name": "body_mass_g",
         "rawType": "float64",
         "type": "float"
        },
        {
         "name": "sex",
         "rawType": "object",
         "type": "unknown"
        }
       ],
       "ref": "251b6383-fef5-4110-a115-9810ccbd7fb8",
       "rows": [
        [
         "0",
         "Adelie",
         "Torgersen",
         "39.1",
         "18.7",
         "181.0",
         "3750.0",
         "Male"
        ],
        [
         "1",
         "Adelie",
         "Torgersen",
         "39.5",
         "17.4",
         "186.0",
         "3800.0",
         "Female"
        ],
        [
         "2",
         "Adelie",
         "Torgersen",
         "40.3",
         "18.0",
         "195.0",
         "3250.0",
         "Female"
        ],
        [
         "3",
         "Adelie",
         "Torgersen",
         null,
         null,
         null,
         null,
         null
        ],
        [
         "4",
         "Adelie",
         "Torgersen",
         "36.7",
         "19.3",
         "193.0",
         "3450.0",
         "Female"
        ]
       ],
       "shape": {
        "columns": 7,
        "rows": 5
       }
      },
      "text/html": [
       "<div>\n",
       "<style scoped>\n",
       "    .dataframe tbody tr th:only-of-type {\n",
       "        vertical-align: middle;\n",
       "    }\n",
       "\n",
       "    .dataframe tbody tr th {\n",
       "        vertical-align: top;\n",
       "    }\n",
       "\n",
       "    .dataframe thead th {\n",
       "        text-align: right;\n",
       "    }\n",
       "</style>\n",
       "<table border=\"1\" class=\"dataframe\">\n",
       "  <thead>\n",
       "    <tr style=\"text-align: right;\">\n",
       "      <th></th>\n",
       "      <th>species</th>\n",
       "      <th>island</th>\n",
       "      <th>bill_length_mm</th>\n",
       "      <th>bill_depth_mm</th>\n",
       "      <th>flipper_length_mm</th>\n",
       "      <th>body_mass_g</th>\n",
       "      <th>sex</th>\n",
       "    </tr>\n",
       "  </thead>\n",
       "  <tbody>\n",
       "    <tr>\n",
       "      <th>0</th>\n",
       "      <td>Adelie</td>\n",
       "      <td>Torgersen</td>\n",
       "      <td>39.1</td>\n",
       "      <td>18.7</td>\n",
       "      <td>181.0</td>\n",
       "      <td>3750.0</td>\n",
       "      <td>Male</td>\n",
       "    </tr>\n",
       "    <tr>\n",
       "      <th>1</th>\n",
       "      <td>Adelie</td>\n",
       "      <td>Torgersen</td>\n",
       "      <td>39.5</td>\n",
       "      <td>17.4</td>\n",
       "      <td>186.0</td>\n",
       "      <td>3800.0</td>\n",
       "      <td>Female</td>\n",
       "    </tr>\n",
       "    <tr>\n",
       "      <th>2</th>\n",
       "      <td>Adelie</td>\n",
       "      <td>Torgersen</td>\n",
       "      <td>40.3</td>\n",
       "      <td>18.0</td>\n",
       "      <td>195.0</td>\n",
       "      <td>3250.0</td>\n",
       "      <td>Female</td>\n",
       "    </tr>\n",
       "    <tr>\n",
       "      <th>3</th>\n",
       "      <td>Adelie</td>\n",
       "      <td>Torgersen</td>\n",
       "      <td>NaN</td>\n",
       "      <td>NaN</td>\n",
       "      <td>NaN</td>\n",
       "      <td>NaN</td>\n",
       "      <td>NaN</td>\n",
       "    </tr>\n",
       "    <tr>\n",
       "      <th>4</th>\n",
       "      <td>Adelie</td>\n",
       "      <td>Torgersen</td>\n",
       "      <td>36.7</td>\n",
       "      <td>19.3</td>\n",
       "      <td>193.0</td>\n",
       "      <td>3450.0</td>\n",
       "      <td>Female</td>\n",
       "    </tr>\n",
       "  </tbody>\n",
       "</table>\n",
       "</div>"
      ],
      "text/plain": [
       "  species     island  bill_length_mm  bill_depth_mm  flipper_length_mm  \\\n",
       "0  Adelie  Torgersen            39.1           18.7              181.0   \n",
       "1  Adelie  Torgersen            39.5           17.4              186.0   \n",
       "2  Adelie  Torgersen            40.3           18.0              195.0   \n",
       "3  Adelie  Torgersen             NaN            NaN                NaN   \n",
       "4  Adelie  Torgersen            36.7           19.3              193.0   \n",
       "\n",
       "   body_mass_g     sex  \n",
       "0       3750.0    Male  \n",
       "1       3800.0  Female  \n",
       "2       3250.0  Female  \n",
       "3          NaN     NaN  \n",
       "4       3450.0  Female  "
      ]
     },
     "execution_count": 2,
     "metadata": {},
     "output_type": "execute_result"
    }
   ],
   "source": [
    "df = sns.load_dataset(\"penguins\")\n",
    "df.head()"
   ]
  },
  {
   "cell_type": "code",
   "execution_count": 3,
   "metadata": {},
   "outputs": [
    {
     "name": "stdout",
     "output_type": "stream",
     "text": [
      "<class 'pandas.core.frame.DataFrame'>\n",
      "RangeIndex: 344 entries, 0 to 343\n",
      "Data columns (total 7 columns):\n",
      " #   Column             Non-Null Count  Dtype  \n",
      "---  ------             --------------  -----  \n",
      " 0   species            344 non-null    object \n",
      " 1   island             344 non-null    object \n",
      " 2   bill_length_mm     342 non-null    float64\n",
      " 3   bill_depth_mm      342 non-null    float64\n",
      " 4   flipper_length_mm  342 non-null    float64\n",
      " 5   body_mass_g        342 non-null    float64\n",
      " 6   sex                333 non-null    object \n",
      "dtypes: float64(4), object(3)\n",
      "memory usage: 18.9+ KB\n"
     ]
    }
   ],
   "source": [
    "df.info()"
   ]
  },
  {
   "cell_type": "code",
   "execution_count": 4,
   "metadata": {},
   "outputs": [
    {
     "name": "stderr",
     "output_type": "stream",
     "text": [
      "/tmp/ipykernel_734125/2405858234.py:9: FutureWarning: Downcasting behavior in `replace` is deprecated and will be removed in a future version. To retain the old behavior, explicitly call `result.infer_objects(copy=False)`. To opt-in to the future behavior, set `pd.set_option('future.no_silent_downcasting', True)`\n",
      "  df.replace(to_replace=cleanup_nums, inplace=True)\n"
     ]
    },
    {
     "data": {
      "application/vnd.microsoft.datawrangler.viewer.v0+json": {
       "columns": [
        {
         "name": "index",
         "rawType": "int64",
         "type": "integer"
        },
        {
         "name": "species",
         "rawType": "int64",
         "type": "integer"
        },
        {
         "name": "bill_length_mm",
         "rawType": "float64",
         "type": "float"
        },
        {
         "name": "bill_depth_mm",
         "rawType": "float64",
         "type": "float"
        },
        {
         "name": "flipper_length_mm",
         "rawType": "float64",
         "type": "float"
        },
        {
         "name": "body_mass_g",
         "rawType": "float64",
         "type": "float"
        },
        {
         "name": "sex",
         "rawType": "int64",
         "type": "integer"
        },
        {
         "name": "Biscoe",
         "rawType": "int64",
         "type": "integer"
        },
        {
         "name": "Dream",
         "rawType": "int64",
         "type": "integer"
        },
        {
         "name": "Torgersen",
         "rawType": "int64",
         "type": "integer"
        }
       ],
       "ref": "ede65760-588c-41c6-af4c-f2edc1a86a0b",
       "rows": [
        [
         "0",
         "0",
         "39.1",
         "18.7",
         "181.0",
         "3750.0",
         "0",
         "0",
         "0",
         "1"
        ],
        [
         "1",
         "0",
         "39.5",
         "17.4",
         "186.0",
         "3800.0",
         "1",
         "0",
         "0",
         "1"
        ],
        [
         "2",
         "0",
         "40.3",
         "18.0",
         "195.0",
         "3250.0",
         "1",
         "0",
         "0",
         "1"
        ],
        [
         "4",
         "0",
         "36.7",
         "19.3",
         "193.0",
         "3450.0",
         "1",
         "0",
         "0",
         "1"
        ],
        [
         "5",
         "0",
         "39.3",
         "20.6",
         "190.0",
         "3650.0",
         "0",
         "0",
         "0",
         "1"
        ]
       ],
       "shape": {
        "columns": 9,
        "rows": 5
       }
      },
      "text/html": [
       "<div>\n",
       "<style scoped>\n",
       "    .dataframe tbody tr th:only-of-type {\n",
       "        vertical-align: middle;\n",
       "    }\n",
       "\n",
       "    .dataframe tbody tr th {\n",
       "        vertical-align: top;\n",
       "    }\n",
       "\n",
       "    .dataframe thead th {\n",
       "        text-align: right;\n",
       "    }\n",
       "</style>\n",
       "<table border=\"1\" class=\"dataframe\">\n",
       "  <thead>\n",
       "    <tr style=\"text-align: right;\">\n",
       "      <th></th>\n",
       "      <th>species</th>\n",
       "      <th>bill_length_mm</th>\n",
       "      <th>bill_depth_mm</th>\n",
       "      <th>flipper_length_mm</th>\n",
       "      <th>body_mass_g</th>\n",
       "      <th>sex</th>\n",
       "      <th>Biscoe</th>\n",
       "      <th>Dream</th>\n",
       "      <th>Torgersen</th>\n",
       "    </tr>\n",
       "  </thead>\n",
       "  <tbody>\n",
       "    <tr>\n",
       "      <th>0</th>\n",
       "      <td>0</td>\n",
       "      <td>39.1</td>\n",
       "      <td>18.7</td>\n",
       "      <td>181.0</td>\n",
       "      <td>3750.0</td>\n",
       "      <td>0</td>\n",
       "      <td>0</td>\n",
       "      <td>0</td>\n",
       "      <td>1</td>\n",
       "    </tr>\n",
       "    <tr>\n",
       "      <th>1</th>\n",
       "      <td>0</td>\n",
       "      <td>39.5</td>\n",
       "      <td>17.4</td>\n",
       "      <td>186.0</td>\n",
       "      <td>3800.0</td>\n",
       "      <td>1</td>\n",
       "      <td>0</td>\n",
       "      <td>0</td>\n",
       "      <td>1</td>\n",
       "    </tr>\n",
       "    <tr>\n",
       "      <th>2</th>\n",
       "      <td>0</td>\n",
       "      <td>40.3</td>\n",
       "      <td>18.0</td>\n",
       "      <td>195.0</td>\n",
       "      <td>3250.0</td>\n",
       "      <td>1</td>\n",
       "      <td>0</td>\n",
       "      <td>0</td>\n",
       "      <td>1</td>\n",
       "    </tr>\n",
       "    <tr>\n",
       "      <th>4</th>\n",
       "      <td>0</td>\n",
       "      <td>36.7</td>\n",
       "      <td>19.3</td>\n",
       "      <td>193.0</td>\n",
       "      <td>3450.0</td>\n",
       "      <td>1</td>\n",
       "      <td>0</td>\n",
       "      <td>0</td>\n",
       "      <td>1</td>\n",
       "    </tr>\n",
       "    <tr>\n",
       "      <th>5</th>\n",
       "      <td>0</td>\n",
       "      <td>39.3</td>\n",
       "      <td>20.6</td>\n",
       "      <td>190.0</td>\n",
       "      <td>3650.0</td>\n",
       "      <td>0</td>\n",
       "      <td>0</td>\n",
       "      <td>0</td>\n",
       "      <td>1</td>\n",
       "    </tr>\n",
       "  </tbody>\n",
       "</table>\n",
       "</div>"
      ],
      "text/plain": [
       "   species  bill_length_mm  bill_depth_mm  flipper_length_mm  body_mass_g  \\\n",
       "0        0            39.1           18.7              181.0       3750.0   \n",
       "1        0            39.5           17.4              186.0       3800.0   \n",
       "2        0            40.3           18.0              195.0       3250.0   \n",
       "4        0            36.7           19.3              193.0       3450.0   \n",
       "5        0            39.3           20.6              190.0       3650.0   \n",
       "\n",
       "   sex  Biscoe  Dream  Torgersen  \n",
       "0    0       0      0          1  \n",
       "1    1       0      0          1  \n",
       "2    1       0      0          1  \n",
       "4    1       0      0          1  \n",
       "5    0       0      0          1  "
      ]
     },
     "execution_count": 4,
     "metadata": {},
     "output_type": "execute_result"
    }
   ],
   "source": [
    "# Limpiamos un poco los datos\n",
    "df.dropna(inplace=True)\n",
    "cleanup_nums = {\"species\": {\"Adelie\": 0,\n",
    "                            \"Chinstrap\": 1,\n",
    "                            \"Gentoo\": 2},\n",
    "               \"sex\": {\"Male\": 0,\n",
    "                       \"Female\": 1}}\n",
    "\n",
    "df.replace(to_replace=cleanup_nums, inplace=True)\n",
    "df = pd.concat([df.drop(columns=\"island\"), pd.get_dummies(df[\"island\"], dtype=\"int\")], axis=1)\n",
    "\n",
    "df.head()"
   ]
  },
  {
   "cell_type": "code",
   "execution_count": 5,
   "metadata": {},
   "outputs": [],
   "source": [
    "df[\"species\"] = df[\"species\"].astype(\"int\")\n",
    "df[\"sex\"] = df[\"sex\"].astype(\"int\")"
   ]
  },
  {
   "cell_type": "code",
   "execution_count": 6,
   "metadata": {},
   "outputs": [
    {
     "name": "stdout",
     "output_type": "stream",
     "text": [
      "<class 'pandas.core.frame.DataFrame'>\n",
      "Index: 333 entries, 0 to 343\n",
      "Data columns (total 9 columns):\n",
      " #   Column             Non-Null Count  Dtype  \n",
      "---  ------             --------------  -----  \n",
      " 0   species            333 non-null    int64  \n",
      " 1   bill_length_mm     333 non-null    float64\n",
      " 2   bill_depth_mm      333 non-null    float64\n",
      " 3   flipper_length_mm  333 non-null    float64\n",
      " 4   body_mass_g        333 non-null    float64\n",
      " 5   sex                333 non-null    int64  \n",
      " 6   Biscoe             333 non-null    int64  \n",
      " 7   Dream              333 non-null    int64  \n",
      " 8   Torgersen          333 non-null    int64  \n",
      "dtypes: float64(4), int64(5)\n",
      "memory usage: 26.0 KB\n"
     ]
    }
   ],
   "source": [
    "df.info()"
   ]
  },
  {
   "cell_type": "code",
   "execution_count": 7,
   "metadata": {},
   "outputs": [
    {
     "data": {
      "application/vnd.microsoft.datawrangler.viewer.v0+json": {
       "columns": [
        {
         "name": "index",
         "rawType": "object",
         "type": "string"
        },
        {
         "name": "species",
         "rawType": "float64",
         "type": "float"
        },
        {
         "name": "bill_length_mm",
         "rawType": "float64",
         "type": "float"
        },
        {
         "name": "bill_depth_mm",
         "rawType": "float64",
         "type": "float"
        },
        {
         "name": "flipper_length_mm",
         "rawType": "float64",
         "type": "float"
        },
        {
         "name": "body_mass_g",
         "rawType": "float64",
         "type": "float"
        },
        {
         "name": "sex",
         "rawType": "float64",
         "type": "float"
        },
        {
         "name": "Biscoe",
         "rawType": "float64",
         "type": "float"
        },
        {
         "name": "Dream",
         "rawType": "float64",
         "type": "float"
        },
        {
         "name": "Torgersen",
         "rawType": "float64",
         "type": "float"
        }
       ],
       "ref": "0438341d-4cd5-4538-b5c2-10601739a484",
       "rows": [
        [
         "count",
         "333.0",
         "333.0",
         "333.0",
         "333.0",
         "333.0",
         "333.0",
         "333.0",
         "333.0",
         "333.0"
        ],
        [
         "mean",
         "0.918918918918919",
         "43.99279279279279",
         "17.164864864864864",
         "200.96696696696696",
         "4207.057057057057",
         "0.4954954954954955",
         "0.4894894894894895",
         "0.36936936936936937",
         "0.14114114114114115"
        ],
        [
         "std",
         "0.8897183980020904",
         "5.468668342647559",
         "1.9692354633199007",
         "14.015765288287879",
         "805.2158019428965",
         "0.5007321243651286",
         "0.5006417965706956",
         "0.48336037457526543",
         "0.34869103926334166"
        ],
        [
         "min",
         "0.0",
         "32.1",
         "13.1",
         "172.0",
         "2700.0",
         "0.0",
         "0.0",
         "0.0",
         "0.0"
        ],
        [
         "25%",
         "0.0",
         "39.5",
         "15.6",
         "190.0",
         "3550.0",
         "0.0",
         "0.0",
         "0.0",
         "0.0"
        ],
        [
         "50%",
         "1.0",
         "44.5",
         "17.3",
         "197.0",
         "4050.0",
         "0.0",
         "0.0",
         "0.0",
         "0.0"
        ],
        [
         "75%",
         "2.0",
         "48.6",
         "18.7",
         "213.0",
         "4775.0",
         "1.0",
         "1.0",
         "1.0",
         "0.0"
        ],
        [
         "max",
         "2.0",
         "59.6",
         "21.5",
         "231.0",
         "6300.0",
         "1.0",
         "1.0",
         "1.0",
         "1.0"
        ]
       ],
       "shape": {
        "columns": 9,
        "rows": 8
       }
      },
      "text/html": [
       "<div>\n",
       "<style scoped>\n",
       "    .dataframe tbody tr th:only-of-type {\n",
       "        vertical-align: middle;\n",
       "    }\n",
       "\n",
       "    .dataframe tbody tr th {\n",
       "        vertical-align: top;\n",
       "    }\n",
       "\n",
       "    .dataframe thead th {\n",
       "        text-align: right;\n",
       "    }\n",
       "</style>\n",
       "<table border=\"1\" class=\"dataframe\">\n",
       "  <thead>\n",
       "    <tr style=\"text-align: right;\">\n",
       "      <th></th>\n",
       "      <th>species</th>\n",
       "      <th>bill_length_mm</th>\n",
       "      <th>bill_depth_mm</th>\n",
       "      <th>flipper_length_mm</th>\n",
       "      <th>body_mass_g</th>\n",
       "      <th>sex</th>\n",
       "      <th>Biscoe</th>\n",
       "      <th>Dream</th>\n",
       "      <th>Torgersen</th>\n",
       "    </tr>\n",
       "  </thead>\n",
       "  <tbody>\n",
       "    <tr>\n",
       "      <th>count</th>\n",
       "      <td>333.000000</td>\n",
       "      <td>333.000000</td>\n",
       "      <td>333.000000</td>\n",
       "      <td>333.000000</td>\n",
       "      <td>333.000000</td>\n",
       "      <td>333.000000</td>\n",
       "      <td>333.000000</td>\n",
       "      <td>333.000000</td>\n",
       "      <td>333.000000</td>\n",
       "    </tr>\n",
       "    <tr>\n",
       "      <th>mean</th>\n",
       "      <td>0.918919</td>\n",
       "      <td>43.992793</td>\n",
       "      <td>17.164865</td>\n",
       "      <td>200.966967</td>\n",
       "      <td>4207.057057</td>\n",
       "      <td>0.495495</td>\n",
       "      <td>0.489489</td>\n",
       "      <td>0.369369</td>\n",
       "      <td>0.141141</td>\n",
       "    </tr>\n",
       "    <tr>\n",
       "      <th>std</th>\n",
       "      <td>0.889718</td>\n",
       "      <td>5.468668</td>\n",
       "      <td>1.969235</td>\n",
       "      <td>14.015765</td>\n",
       "      <td>805.215802</td>\n",
       "      <td>0.500732</td>\n",
       "      <td>0.500642</td>\n",
       "      <td>0.483360</td>\n",
       "      <td>0.348691</td>\n",
       "    </tr>\n",
       "    <tr>\n",
       "      <th>min</th>\n",
       "      <td>0.000000</td>\n",
       "      <td>32.100000</td>\n",
       "      <td>13.100000</td>\n",
       "      <td>172.000000</td>\n",
       "      <td>2700.000000</td>\n",
       "      <td>0.000000</td>\n",
       "      <td>0.000000</td>\n",
       "      <td>0.000000</td>\n",
       "      <td>0.000000</td>\n",
       "    </tr>\n",
       "    <tr>\n",
       "      <th>25%</th>\n",
       "      <td>0.000000</td>\n",
       "      <td>39.500000</td>\n",
       "      <td>15.600000</td>\n",
       "      <td>190.000000</td>\n",
       "      <td>3550.000000</td>\n",
       "      <td>0.000000</td>\n",
       "      <td>0.000000</td>\n",
       "      <td>0.000000</td>\n",
       "      <td>0.000000</td>\n",
       "    </tr>\n",
       "    <tr>\n",
       "      <th>50%</th>\n",
       "      <td>1.000000</td>\n",
       "      <td>44.500000</td>\n",
       "      <td>17.300000</td>\n",
       "      <td>197.000000</td>\n",
       "      <td>4050.000000</td>\n",
       "      <td>0.000000</td>\n",
       "      <td>0.000000</td>\n",
       "      <td>0.000000</td>\n",
       "      <td>0.000000</td>\n",
       "    </tr>\n",
       "    <tr>\n",
       "      <th>75%</th>\n",
       "      <td>2.000000</td>\n",
       "      <td>48.600000</td>\n",
       "      <td>18.700000</td>\n",
       "      <td>213.000000</td>\n",
       "      <td>4775.000000</td>\n",
       "      <td>1.000000</td>\n",
       "      <td>1.000000</td>\n",
       "      <td>1.000000</td>\n",
       "      <td>0.000000</td>\n",
       "    </tr>\n",
       "    <tr>\n",
       "      <th>max</th>\n",
       "      <td>2.000000</td>\n",
       "      <td>59.600000</td>\n",
       "      <td>21.500000</td>\n",
       "      <td>231.000000</td>\n",
       "      <td>6300.000000</td>\n",
       "      <td>1.000000</td>\n",
       "      <td>1.000000</td>\n",
       "      <td>1.000000</td>\n",
       "      <td>1.000000</td>\n",
       "    </tr>\n",
       "  </tbody>\n",
       "</table>\n",
       "</div>"
      ],
      "text/plain": [
       "          species  bill_length_mm  bill_depth_mm  flipper_length_mm  \\\n",
       "count  333.000000      333.000000     333.000000         333.000000   \n",
       "mean     0.918919       43.992793      17.164865         200.966967   \n",
       "std      0.889718        5.468668       1.969235          14.015765   \n",
       "min      0.000000       32.100000      13.100000         172.000000   \n",
       "25%      0.000000       39.500000      15.600000         190.000000   \n",
       "50%      1.000000       44.500000      17.300000         197.000000   \n",
       "75%      2.000000       48.600000      18.700000         213.000000   \n",
       "max      2.000000       59.600000      21.500000         231.000000   \n",
       "\n",
       "       body_mass_g         sex      Biscoe       Dream   Torgersen  \n",
       "count   333.000000  333.000000  333.000000  333.000000  333.000000  \n",
       "mean   4207.057057    0.495495    0.489489    0.369369    0.141141  \n",
       "std     805.215802    0.500732    0.500642    0.483360    0.348691  \n",
       "min    2700.000000    0.000000    0.000000    0.000000    0.000000  \n",
       "25%    3550.000000    0.000000    0.000000    0.000000    0.000000  \n",
       "50%    4050.000000    0.000000    0.000000    0.000000    0.000000  \n",
       "75%    4775.000000    1.000000    1.000000    1.000000    0.000000  \n",
       "max    6300.000000    1.000000    1.000000    1.000000    1.000000  "
      ]
     },
     "execution_count": 7,
     "metadata": {},
     "output_type": "execute_result"
    }
   ],
   "source": [
    "df.describe(include=\"all\")"
   ]
  },
  {
   "attachments": {},
   "cell_type": "markdown",
   "metadata": {},
   "source": [
    "Dividimos en train test"
   ]
  },
  {
   "cell_type": "code",
   "execution_count": 8,
   "metadata": {},
   "outputs": [],
   "source": [
    "from sklearn.model_selection import train_test_split\n",
    "\n",
    "X = df.drop(columns=[\"species\"])\n",
    "y = df[[\"species\"]].to_numpy().ravel()\n",
    "\n",
    "X_train, X_test, y_train, y_test = train_test_split(X,\n",
    "                                                    y,\n",
    "                                                    test_size=0.2,\n",
    "                                                    random_state=42)"
   ]
  },
  {
   "cell_type": "code",
   "execution_count": 9,
   "metadata": {},
   "outputs": [
    {
     "name": "stdout",
     "output_type": "stream",
     "text": [
      "(266, 8)\n",
      "(67, 8)\n",
      "(266,)\n",
      "(67,)\n"
     ]
    }
   ],
   "source": [
    "print(X_train.shape)\n",
    "print(X_test.shape)\n",
    "print(y_train.shape)\n",
    "print(y_test.shape)"
   ]
  },
  {
   "attachments": {},
   "cell_type": "markdown",
   "metadata": {},
   "source": [
    "Vamos a probar un Perceptrón"
   ]
  },
  {
   "cell_type": "code",
   "execution_count": 10,
   "metadata": {},
   "outputs": [
    {
     "data": {
      "text/plain": [
       "0.19402985074626866"
      ]
     },
     "execution_count": 10,
     "metadata": {},
     "output_type": "execute_result"
    }
   ],
   "source": [
    "from sklearn.linear_model import Perceptron\n",
    "\n",
    "per_clf = Perceptron(random_state=1)\n",
    "per_clf.fit(X_train, y_train)\n",
    "per_clf.score(X_test, y_test)"
   ]
  },
  {
   "cell_type": "code",
   "execution_count": 11,
   "metadata": {},
   "outputs": [
    {
     "data": {
      "text/plain": [
       "1.0"
      ]
     },
     "execution_count": 11,
     "metadata": {},
     "output_type": "execute_result"
    }
   ],
   "source": [
    "from sklearn.linear_model import LogisticRegression\n",
    "\n",
    "log_reg = LogisticRegression(max_iter=10000)\n",
    "log_reg.fit(X_train, y_train)\n",
    "\n",
    "log_reg.score(X_test, y_test)"
   ]
  },
  {
   "cell_type": "markdown",
   "metadata": {},
   "source": [
    "Probemos con el escalado MinMax, en este caso en el rango (-1, 1)... Haciendo un símil a las señales de activación e inhibición que reciben las neuronas."
   ]
  },
  {
   "cell_type": "code",
   "execution_count": 12,
   "metadata": {},
   "outputs": [
    {
     "data": {
      "text/plain": [
       "1.0"
      ]
     },
     "execution_count": 12,
     "metadata": {},
     "output_type": "execute_result"
    }
   ],
   "source": [
    "from sklearn.preprocessing import MinMaxScaler\n",
    "\n",
    "X_scaled = MinMaxScaler((-1, 1)).fit_transform(X)\n",
    "\n",
    "X_train_scaled, X_test_scaled, y_train, y_test = train_test_split(X_scaled,\n",
    "                                                    y,\n",
    "                                                    test_size=0.2,\n",
    "                                                    random_state=42)\n",
    "\n",
    "per_clf = Perceptron(random_state=1)\n",
    "per_clf.fit(X_train_scaled, y_train)\n",
    "per_clf.score(X_test_scaled, y_test)"
   ]
  },
  {
   "attachments": {},
   "cell_type": "markdown",
   "metadata": {},
   "source": [
    "Pero nuestra capacidad no está en una sola neurona, son las estructuras que forman las que nos permiten hacer todo lo que hacemos."
   ]
  },
  {
   "attachments": {},
   "cell_type": "markdown",
   "metadata": {},
   "source": [
    "## Multi Layer Perceptron\n",
    "\n",
    "El perceptrón multicapa fue uno de los grandes hallazgos de el siglo pasado, en concreto cómo poder entrenar estas estructuras tan complejas para poder fijar las relaciones entre entradas y salidas de datos.\n",
    "\n",
    "![hist](./../../../../assets/images/figure1_ANN_history.jpg)\n",
    "\n",
    "El propio Geoffrey Hinton dió una charla sobre este recorrido hasta 2025 aproximadamente: https://www.youtube.com/watch?v=IkdziSLYzHw"
   ]
  },
  {
   "cell_type": "markdown",
   "metadata": {},
   "source": [
    "![mlp](./../../../../assets/images/neuralnet_mlp_1.webp)\n",
    "\n",
    "Una buena referencia de cómo funciona la retropropagación del error: https://towardsdatascience.com/understanding-backpropagation-abcc509ca9d0/"
   ]
  },
  {
   "cell_type": "code",
   "execution_count": 13,
   "metadata": {},
   "outputs": [],
   "source": [
    "import json\n",
    "\n",
    "class MultilayerPerceptron:\n",
    "    def __init__(self, layers, loss_layer):\n",
    "\n",
    "        # Estructura de capas\n",
    "        self.layers = layers\n",
    "        self.loss_layer = loss_layer\n",
    "\n",
    "    def predict(self, x, layers, is_train):\n",
    "        \"\"\"\n",
    "        La predicción ejecuta la multiplicación de los pesos,\n",
    "        suma y función de activación, en un orden de izquierda a derecha.\n",
    "        \"\"\"\n",
    "        input_arr = x\n",
    "        for layer in layers:\n",
    "            # Forward\n",
    "            res = layer.forward(input_arr, is_train)\n",
    "            input_arr = res\n",
    "\n",
    "        return res\n",
    "\n",
    "    def calculate_loss(self, x, label, layers, is_train):\n",
    "        res = self.predict(x, layers, is_train)\n",
    "        return self.loss_layer.forward(res, label)\n",
    "\n",
    "    def backward(self, label, layers):\n",
    "        \"\"\"\n",
    "        Propagamos el error hacia atrás de forma que podamos\n",
    "        ajustar el valor de los pesos.\n",
    "        \"\"\"\n",
    "        dx = label\n",
    "        for layer in reversed(layers):\n",
    "            res = layer.backward(dx)\n",
    "            dx = res\n",
    "\n",
    "    def save_parameters(self, output_param_path):\n",
    "        params = []\n",
    "        for layer in self.layers:\n",
    "            params = layer.save_parameters(params)\n",
    "\n",
    "        params = self.loss_layer.save_parameters(params)\n",
    "        save_data = {}\n",
    "        save_data[\"params\"] = params\n",
    "        with open(output_param_path, \"w\") as f:\n",
    "            json.dump(save_data, f, indent=4)"
   ]
  },
  {
   "cell_type": "code",
   "execution_count": 14,
   "metadata": {},
   "outputs": [],
   "source": [
    "import numpy as np\n",
    "from capas import Affine, Sigmoid, BinaryCrossEntropy, Softmax\n",
    "\n",
    "hidden_layer_size = 10\n",
    "lr_rate = 1e-4\n",
    "\n",
    "# Capa de entrada\n",
    "_, entradas = X_train.shape\n",
    "input_layer = Affine(entradas, hidden_layer_size, lr_rate)\n",
    "sigmoid_layer_0 = Sigmoid()\n",
    "\n",
    "# Capa oculta\n",
    "hidden_layer_1 = Affine(hidden_layer_size, hidden_layer_size, lr_rate)\n",
    "sigmoid_layer_1 = Sigmoid()\n",
    "\n",
    "# Capa de salida\n",
    "output_layer = Affine(hidden_layer_size, 2, lr_rate)\n",
    "softmax_layer = Softmax(X_train_scaled.shape[0], 2)\n",
    "loss_layer = BinaryCrossEntropy()\n",
    "\n",
    "# Arquitectura de la red\n",
    "layers = [\n",
    "    input_layer,\n",
    "    sigmoid_layer_0,\n",
    "    hidden_layer_1,\n",
    "    sigmoid_layer_0,\n",
    "    output_layer,\n",
    "    softmax_layer,\n",
    "]\n",
    "net = MultilayerPerceptron(layers, loss_layer)"
   ]
  },
  {
   "cell_type": "markdown",
   "metadata": {},
   "source": [
    "La **entropía cruzada binaria** (binary cross-entropy) es una función de pérdida fundamental en el aprendizaje automático, especialmente utilizada en problemas de clasificación binaria. Mide la diferencia entre dos distribuciones de probabilidad para una variable aleatoria binaria. En el contexto del machine learning, compara la distribución de probabilidad predicha por el modelo con la distribución real de las etiquetas.\n",
    "\n",
    "Para una sola muestra:\n",
    "\n",
    "$$\n",
    "BCE = -\\left(y\\log(\\hat{y}) + (1-y) \\log(1-\\hat{y})\\right)\n",
    "$$\n",
    "donde $y$ es la etiqueta real (0 o 1) y $\\hat{y}$ es la probabilidad predicha (entre 0 y 1)\n",
    "\n",
    "Para un conjunto de datos con N muestras lo generalizamos a\n",
    "\n",
    "$$\n",
    "BCE = \\frac{-1}{N} \\sum\\left(y_i\\log(\\hat{y}_i) + (1-y_i)\\log(1-\\hat{y}_i)\\right)\n",
    "$$\n",
    "\n",
    "La función penaliza fuertemente las predicciones que están muy alejadas de la etiqueta real. Cuando la predicción es correcta y confiable (ŷ ≈ 1 cuando y = 1, o ŷ ≈ 0 cuando y = 0), la pérdida es pequeña. Sin embargo, cuando la predicción es incorrecta y confiable, la pérdida se aproxima al infinito.\n",
    "\n",
    "Esta función es convexa y diferenciable, lo que facilita la optimización mediante gradiente descendente. Su derivada tiene una forma simple que permite un entrenamiento eficiente de redes neuronales.\n"
   ]
  },
  {
   "cell_type": "markdown",
   "metadata": {},
   "source": [
    "Ahora nos toca iterar sobre los datos _suficientes_ veces hasta aprender los pesos adecuados."
   ]
  },
  {
   "cell_type": "code",
   "execution_count": 15,
   "metadata": {},
   "outputs": [
    {
     "name": "stdout",
     "output_type": "stream",
     "text": [
      "Epoch: 1/20 Loss: -1.1105 Val Loss: -1.0838\n",
      "Epoch: 2/20 Loss: -1.2227 Val Loss: -1.1842\n",
      "Epoch: 3/20 Loss: -1.3018 Val Loss: -1.2553\n",
      "Epoch: 4/20 Loss: -1.3579 Val Loss: -1.3058\n",
      "Epoch: 5/20 Loss: -1.3979 Val Loss: -1.3419\n",
      "Epoch: 6/20 Loss: -1.4267 Val Loss: -1.3678\n",
      "Epoch: 7/20 Loss: -1.4474 Val Loss: -1.3866\n",
      "Epoch: 8/20 Loss: -1.4625 Val Loss: -1.4003\n",
      "Epoch: 9/20 Loss: -1.4736 Val Loss: -1.4103\n",
      "Epoch: 10/20 Loss: -1.4818 Val Loss: -1.4177\n",
      "Epoch: 11/20 Loss: -1.4879 Val Loss: -1.4232\n",
      "Epoch: 12/20 Loss: -1.4925 Val Loss: -1.4274\n",
      "Epoch: 13/20 Loss: -1.496 Val Loss: -1.4306\n",
      "Epoch: 14/20 Loss: -1.4988 Val Loss: -1.4331\n",
      "Epoch: 15/20 Loss: -1.501 Val Loss: -1.4351\n",
      "Epoch: 16/20 Loss: -1.5028 Val Loss: -1.4368\n",
      "Epoch: 17/20 Loss: -1.5044 Val Loss: -1.4382\n",
      "Epoch: 18/20 Loss: -1.5057 Val Loss: -1.4394\n",
      "Epoch: 19/20 Loss: -1.5069 Val Loss: -1.4405\n",
      "Epoch: 20/20 Loss: -1.508 Val Loss: -1.4415\n"
     ]
    }
   ],
   "source": [
    "iters_num = 200\n",
    "epoch_cnt = 0\n",
    "epoch_num = 10\n",
    "epoch_all = int(iters_num / epoch_num)\n",
    "\n",
    "learning_history = {}\n",
    "for itr in range(iters_num):\n",
    "    loss = net.calculate_loss(X_train_scaled, y_train, layers, True)\n",
    "\n",
    "    net.backward(y_train, layers)\n",
    "\n",
    "    if itr % epoch_num == 0:\n",
    "        epoch_cnt += 1\n",
    "        val_loss = net.calculate_loss(\n",
    "            np.array(X_test_scaled),\n",
    "            np.array(y_test),\n",
    "            layers,\n",
    "            False,\n",
    "        )\n",
    "        learning_history[epoch_cnt] = {\"train_loss\": loss, \"val_loss\": val_loss}\n",
    "        print(\n",
    "            \"Epoch: {0}/{1} Loss: {2} Val Loss: {3}\".format(\n",
    "                epoch_cnt, epoch_all, round(loss, 4), round(val_loss, 4)\n",
    "            )\n",
    "        )"
   ]
  },
  {
   "cell_type": "code",
   "execution_count": 16,
   "metadata": {},
   "outputs": [
    {
     "data": {
      "image/png": "[encoded data removed]",
      "text/plain": [
       "<Figure size 640x480 with 1 Axes>"
      ]
     },
     "metadata": {},
     "output_type": "display_data"
    }
   ],
   "source": [
    "import matplotlib.pyplot as plt\n",
    "\n",
    "epoch = []\n",
    "train_loss = []\n",
    "val_loss = []\n",
    "for key in learning_history:\n",
    "    epoch.append(key)\n",
    "    train_loss.append(learning_history[key][\"train_loss\"])\n",
    "    val_loss.append(learning_history[key][\"val_loss\"])\n",
    "\n",
    "plt.plot(epoch, train_loss, label=\"Training loss\")\n",
    "plt.plot(epoch, val_loss, label=\"Validation loss\")\n",
    "plt.ylabel(\"Loss\")\n",
    "plt.xlabel(\"Epoch\")\n",
    "plt.title(\"Learning curves for a multilayer perceptron\")\n",
    "plt.legend()\n",
    "plt.show()"
   ]
  },
  {
   "cell_type": "code",
   "execution_count": 17,
   "metadata": {},
   "outputs": [
    {
     "data": {
      "text/plain": [
       "0.43283582089552236"
      ]
     },
     "execution_count": 17,
     "metadata": {},
     "output_type": "execute_result"
    }
   ],
   "source": [
    "from sklearn.neural_network import MLPClassifier\n",
    "#from sklearn.neural_network import MLPRegressor\n",
    "\n",
    "mlp = MLPClassifier(random_state=42)\n",
    "mlp.fit(X_train, y_train)\n",
    "\n",
    "mlp.score(X_test, y_test)"
   ]
  },
  {
   "cell_type": "code",
   "execution_count": 18,
   "metadata": {},
   "outputs": [
    {
     "name": "stderr",
     "output_type": "stream",
     "text": [
      "/home/david/Vídeos/2025-09-STEMIA/.venv/lib/python3.12/site-packages/sklearn/neural_network/_multilayer_perceptron.py:781: ConvergenceWarning: Stochastic Optimizer: Maximum iterations (200) reached and the optimization hasn't converged yet.\n",
      "  warnings.warn(\n"
     ]
    },
    {
     "data": {
      "text/plain": [
       "1.0"
      ]
     },
     "execution_count": 18,
     "metadata": {},
     "output_type": "execute_result"
    }
   ],
   "source": [
    "mlp = MLPClassifier(random_state=42)\n",
    "mlp.fit(X_train_scaled, y_train)\n",
    "\n",
    "mlp.score(X_test_scaled, y_test)"
   ]
  },
  {
   "attachments": {},
   "cell_type": "markdown",
   "metadata": {},
   "source": [
    "Probemos otra configuración. Es posible crear una red neuronal desde la propia función de `MLPClassifier()` indicando diversas opciones como por ejemplo, la estructura de la red o las funciones de activación a emplear.\n",
    "\n",
    "* Funciones de activación: https://en.wikipedia.org/wiki/Activation_function"
   ]
  },
  {
   "cell_type": "code",
   "execution_count": 19,
   "metadata": {},
   "outputs": [
    {
     "data": {
      "text/plain": [
       "0.7164179104477612"
      ]
     },
     "execution_count": 19,
     "metadata": {},
     "output_type": "execute_result"
    }
   ],
   "source": [
    "mlp = MLPClassifier(max_iter=500,\n",
    "                   activation='logistic',\n",
    "                   hidden_layer_sizes = (150, 150, 150),\n",
    "                   random_state=42)\n",
    "\n",
    "mlp.fit(X_train, y_train)\n",
    "mlp.score(X_test, y_test)"
   ]
  },
  {
   "cell_type": "code",
   "execution_count": 20,
   "metadata": {},
   "outputs": [
    {
     "data": {
      "text/plain": [
       "0.34328358208955223"
      ]
     },
     "execution_count": 20,
     "metadata": {},
     "output_type": "execute_result"
    }
   ],
   "source": [
    "mlp = MLPClassifier(max_iter=500,\n",
    "                   activation='tanh',\n",
    "                   hidden_layer_sizes = (150, 150, 150),\n",
    "                   random_state=42)\n",
    "\n",
    "mlp.fit(X_train, y_train)\n",
    "mlp.score(X_test, y_test)"
   ]
  },
  {
   "cell_type": "code",
   "execution_count": 21,
   "metadata": {},
   "outputs": [
    {
     "data": {
      "text/plain": [
       "0.4626865671641791"
      ]
     },
     "execution_count": 21,
     "metadata": {},
     "output_type": "execute_result"
    }
   ],
   "source": [
    "mlp = MLPClassifier(max_iter=500,\n",
    "                   activation='relu',\n",
    "                   hidden_layer_sizes = (150, 150, 150),\n",
    "                   random_state=42)\n",
    "\n",
    "mlp.fit(X_train, y_train)\n",
    "mlp.score(X_test, y_test)"
   ]
  },
  {
   "cell_type": "code",
   "execution_count": 22,
   "metadata": {},
   "outputs": [
    {
     "data": {
      "text/plain": [
       "1.0"
      ]
     },
     "execution_count": 22,
     "metadata": {},
     "output_type": "execute_result"
    }
   ],
   "source": [
    "mlp = MLPClassifier(max_iter=500,\n",
    "                   activation='relu',\n",
    "                   hidden_layer_sizes = (150, 150, 150),\n",
    "                   random_state=42)\n",
    "\n",
    "mlp.fit(X_train_scaled, y_train)\n",
    "mlp.score(X_test_scaled, y_test)"
   ]
  },
  {
   "cell_type": "code",
   "execution_count": 23,
   "metadata": {},
   "outputs": [
    {
     "data": {
      "text/plain": [
       "array([[31,  0,  0],\n",
       "       [ 0, 13,  0],\n",
       "       [ 0,  0, 23]])"
      ]
     },
     "execution_count": 23,
     "metadata": {},
     "output_type": "execute_result"
    }
   ],
   "source": [
    "from sklearn.metrics import confusion_matrix\n",
    "\n",
    "confusion_matrix(y_test, mlp.predict(X_test_scaled))"
   ]
  },
  {
   "attachments": {},
   "cell_type": "markdown",
   "metadata": {},
   "source": [
    "Para entrenar estas redes se utiliza el descenso del gradiente, y por tanto son muy sensibles al escalado. La selección de función de activación y estructura a emplear es la clave a la hora de acometer tareas concretas.\n",
    "\n",
    "* Arquitecturas base: https://www.asimovinstitute.org/neural-network-zoo/\n"
   ]
  }
 ],
 "metadata": {
  "kernelspec": {
   "display_name": ".venv",
   "language": "python",
   "name": "python3"
  },
  "language_info": {
   "codemirror_mode": {
    "name": "ipython",
    "version": 3
   },
   "file_extension": ".py",
   "mimetype": "text/x-python",
   "name": "python",
   "nbconvert_exporter": "python",
   "pygments_lexer": "ipython3",
   "version": "3.12.3"
  }
 },
 "nbformat": 4,
 "nbformat_minor": 4
}
